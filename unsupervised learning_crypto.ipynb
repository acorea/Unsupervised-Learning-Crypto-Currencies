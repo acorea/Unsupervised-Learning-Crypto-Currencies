{
  "cells": [
    {
      "cell_type": "markdown",
      "source": [
        "# Students Do: Understanding customers\n",
        "\n",
        "## Instructions\n",
        "\n",
        "You are given a dataset that contains historical data from purchases of a online store made by 200 customers. In this activity you will put in action your data preprocessing superpowers, also you'll add some new skills needed to start finding customers clusters."
      ],
      "metadata": {}
    },
    {
      "cell_type": "code",
      "execution_count": 9,
      "source": [
        "# Initial imports\r\n",
        "import pandas as pd\r\n",
        "from pathlib import Path"
      ],
      "outputs": [],
      "metadata": {}
    },
    {
      "cell_type": "code",
      "execution_count": 10,
      "source": [
        "# Data loading\r\n",
        "file_path = Path(\"../Unsupervised-Learning-Crypto-Currencies/crypto_data.csv\")\r\n",
        "df_crypto = pd.read_csv(file_path)\r\n",
        "print(df_crypto)"
      ],
      "outputs": [
        {
          "output_type": "stream",
          "name": "stdout",
          "text": [
            "     Unnamed: 0        CoinName Algorithm  IsTrading ProofType  \\\n",
            "0            42         42 Coin    Scrypt       True   PoW/PoS   \n",
            "1           365         365Coin       X11       True   PoW/PoS   \n",
            "2           404         404Coin    Scrypt       True   PoW/PoS   \n",
            "3           611       SixEleven   SHA-256       True       PoW   \n",
            "4           808             808   SHA-256       True   PoW/PoS   \n",
            "...         ...             ...       ...        ...       ...   \n",
            "1247        XBC     BitcoinPlus    Scrypt       True       PoS   \n",
            "1248       DVTC      DivotyCoin    Scrypt      False   PoW/PoS   \n",
            "1249       GIOT     Giotto Coin    Scrypt      False   PoW/PoS   \n",
            "1250       OPSC  OpenSourceCoin   SHA-256      False   PoW/PoS   \n",
            "1251       PUNK       SteamPunk       PoS      False       PoS   \n",
            "\n",
            "      TotalCoinsMined TotalCoinSupply  \n",
            "0        4.199995e+01              42  \n",
            "1                 NaN      2300000000  \n",
            "2        1.055185e+09       532000000  \n",
            "3                 NaN          611000  \n",
            "4        0.000000e+00               0  \n",
            "...               ...             ...  \n",
            "1247     1.283270e+05         1000000  \n",
            "1248     2.149121e+07       100000000  \n",
            "1249              NaN       233100000  \n",
            "1250              NaN        21000000  \n",
            "1251              NaN        40000000  \n",
            "\n",
            "[1252 rows x 7 columns]\n"
          ]
        }
      ],
      "metadata": {}
    },
    {
      "cell_type": "markdown",
      "source": [
        "List the DataFrame's data types to ensure they're aligned to the type of data stored on each column."
      ],
      "metadata": {}
    },
    {
      "cell_type": "code",
      "execution_count": 11,
      "source": [
        "# List dataframe data types\r\n",
        "df_crypto.dtypes\r\n"
      ],
      "outputs": [
        {
          "output_type": "execute_result",
          "data": {
            "text/plain": [
              "Unnamed: 0          object\n",
              "CoinName            object\n",
              "Algorithm           object\n",
              "IsTrading             bool\n",
              "ProofType           object\n",
              "TotalCoinsMined    float64\n",
              "TotalCoinSupply     object\n",
              "dtype: object"
            ]
          },
          "metadata": {},
          "execution_count": 11
        }
      ],
      "metadata": {}
    },
    {
      "cell_type": "code",
      "execution_count": 12,
      "source": [
        "#Remove rows with `false` values in 'IsTrading' Column.\r\n",
        "df_crypto.drop(df_crypto[df_crypto['IsTrading'] == False].index, inplace=True)\r\n",
        "print(df_crypto)"
      ],
      "outputs": [
        {
          "output_type": "stream",
          "name": "stdout",
          "text": [
            "     Unnamed: 0     CoinName    Algorithm  IsTrading ProofType  \\\n",
            "0            42      42 Coin       Scrypt       True   PoW/PoS   \n",
            "1           365      365Coin          X11       True   PoW/PoS   \n",
            "2           404      404Coin       Scrypt       True   PoW/PoS   \n",
            "3           611    SixEleven      SHA-256       True       PoW   \n",
            "4           808          808      SHA-256       True   PoW/PoS   \n",
            "...         ...          ...          ...        ...       ...   \n",
            "1243       SERO   Super Zero       Ethash       True       PoW   \n",
            "1244        UOS          UOS      SHA-256       True      DPoI   \n",
            "1245        BDX       Beldex  CryptoNight       True       PoW   \n",
            "1246        ZEN      Horizen     Equihash       True       PoW   \n",
            "1247        XBC  BitcoinPlus       Scrypt       True       PoS   \n",
            "\n",
            "      TotalCoinsMined TotalCoinSupply  \n",
            "0        4.199995e+01              42  \n",
            "1                 NaN      2300000000  \n",
            "2        1.055185e+09       532000000  \n",
            "3                 NaN          611000  \n",
            "4        0.000000e+00               0  \n",
            "...               ...             ...  \n",
            "1243              NaN      1000000000  \n",
            "1244              NaN      1000000000  \n",
            "1245     9.802226e+08      1400222610  \n",
            "1246     7.296538e+06        21000000  \n",
            "1247     1.283270e+05         1000000  \n",
            "\n",
            "[1144 rows x 7 columns]\n"
          ]
        }
      ],
      "metadata": {}
    },
    {
      "cell_type": "code",
      "execution_count": 13,
      "source": [
        "# Remove the IsTrading Column\r\n",
        "df_crypto = df_crypto.drop(columns=[\"IsTrading\"])\r\n",
        "df_crypto.head()"
      ],
      "outputs": [
        {
          "output_type": "execute_result",
          "data": {
            "text/html": [
              "<div>\n",
              "<style scoped>\n",
              "    .dataframe tbody tr th:only-of-type {\n",
              "        vertical-align: middle;\n",
              "    }\n",
              "\n",
              "    .dataframe tbody tr th {\n",
              "        vertical-align: top;\n",
              "    }\n",
              "\n",
              "    .dataframe thead th {\n",
              "        text-align: right;\n",
              "    }\n",
              "</style>\n",
              "<table border=\"1\" class=\"dataframe\">\n",
              "  <thead>\n",
              "    <tr style=\"text-align: right;\">\n",
              "      <th></th>\n",
              "      <th>Unnamed: 0</th>\n",
              "      <th>CoinName</th>\n",
              "      <th>Algorithm</th>\n",
              "      <th>ProofType</th>\n",
              "      <th>TotalCoinsMined</th>\n",
              "      <th>TotalCoinSupply</th>\n",
              "    </tr>\n",
              "  </thead>\n",
              "  <tbody>\n",
              "    <tr>\n",
              "      <th>0</th>\n",
              "      <td>42</td>\n",
              "      <td>42 Coin</td>\n",
              "      <td>Scrypt</td>\n",
              "      <td>PoW/PoS</td>\n",
              "      <td>4.199995e+01</td>\n",
              "      <td>42</td>\n",
              "    </tr>\n",
              "    <tr>\n",
              "      <th>1</th>\n",
              "      <td>365</td>\n",
              "      <td>365Coin</td>\n",
              "      <td>X11</td>\n",
              "      <td>PoW/PoS</td>\n",
              "      <td>NaN</td>\n",
              "      <td>2300000000</td>\n",
              "    </tr>\n",
              "    <tr>\n",
              "      <th>2</th>\n",
              "      <td>404</td>\n",
              "      <td>404Coin</td>\n",
              "      <td>Scrypt</td>\n",
              "      <td>PoW/PoS</td>\n",
              "      <td>1.055185e+09</td>\n",
              "      <td>532000000</td>\n",
              "    </tr>\n",
              "    <tr>\n",
              "      <th>3</th>\n",
              "      <td>611</td>\n",
              "      <td>SixEleven</td>\n",
              "      <td>SHA-256</td>\n",
              "      <td>PoW</td>\n",
              "      <td>NaN</td>\n",
              "      <td>611000</td>\n",
              "    </tr>\n",
              "    <tr>\n",
              "      <th>4</th>\n",
              "      <td>808</td>\n",
              "      <td>808</td>\n",
              "      <td>SHA-256</td>\n",
              "      <td>PoW/PoS</td>\n",
              "      <td>0.000000e+00</td>\n",
              "      <td>0</td>\n",
              "    </tr>\n",
              "  </tbody>\n",
              "</table>\n",
              "</div>"
            ],
            "text/plain": [
              "  Unnamed: 0   CoinName Algorithm ProofType  TotalCoinsMined TotalCoinSupply\n",
              "0         42    42 Coin    Scrypt   PoW/PoS     4.199995e+01              42\n",
              "1        365    365Coin       X11   PoW/PoS              NaN      2300000000\n",
              "2        404    404Coin    Scrypt   PoW/PoS     1.055185e+09       532000000\n",
              "3        611  SixEleven   SHA-256       PoW              NaN          611000\n",
              "4        808        808   SHA-256   PoW/PoS     0.000000e+00               0"
            ]
          },
          "metadata": {},
          "execution_count": 13
        }
      ],
      "metadata": {}
    },
    {
      "cell_type": "code",
      "execution_count": 14,
      "source": [
        "# Find null values\r\n",
        "for column in df_crypto.columns:\r\n",
        "    print(f\"Column {column} has {df_crypto[column].isnull().sum()} null values\")\r\n",
        "\r\n"
      ],
      "outputs": [
        {
          "output_type": "stream",
          "name": "stdout",
          "text": [
            "Column Unnamed: 0 has 0 null values\n",
            "Column CoinName has 0 null values\n",
            "Column Algorithm has 0 null values\n",
            "Column ProofType has 0 null values\n",
            "Column TotalCoinsMined has 459 null values\n",
            "Column TotalCoinSupply has 0 null values\n"
          ]
        }
      ],
      "metadata": {}
    },
    {
      "cell_type": "code",
      "execution_count": null,
      "source": [],
      "outputs": [],
      "metadata": {}
    },
    {
      "cell_type": "markdown",
      "source": [
        "Remove duplicate entries if any."
      ],
      "metadata": {}
    },
    {
      "cell_type": "code",
      "execution_count": null,
      "source": [
        "# Find duplicate entries\r\n",
        "print(f\"Duplicate entries: {df_shopping.duplicated().sum()}\")\r\n"
      ],
      "outputs": [],
      "metadata": {}
    },
    {
      "cell_type": "markdown",
      "source": [
        "In order to use unsupervised learning algorithms, all the features should be numeric, and also, on similar scales. Perform the following data transformations.\n",
        "\n",
        "* The `Gender` column contains categorical data, anytime you have categorical variables, you should transform them to a numerical value, in this case, transforming `Male` to `1` and `Female` to `0` is a feasible solution."
      ],
      "metadata": {}
    },
    {
      "cell_type": "code",
      "execution_count": null,
      "source": [
        "# Transform Previous Customer column\r\n",
        "def changeStatus(status):\r\n",
        "    if status == \"Yes\":\r\n",
        "        return 1\r\n",
        "    else:\r\n",
        "        return 0\r\n",
        "\r\n",
        "# Along with replace() and map(), this is another way to encode the gender column into numbers.\r\n",
        "df_shopping[\"Previous Shopper\"] = df_shopping[\"Previous Shopper\"].apply(changeStatus)\r\n",
        "df_shopping.head()\r\n"
      ],
      "outputs": [],
      "metadata": {}
    },
    {
      "cell_type": "markdown",
      "source": [
        "* Here, we will scale the `Age`, `Annual Income` and `Spending Score (1-100)` columns to bring them into the same range as the `Previous Shopper` column."
      ],
      "metadata": {}
    },
    {
      "cell_type": "code",
      "execution_count": null,
      "source": [
        "# Scale the data\r\n",
        "from sklearn.preprocessing import StandardScaler\r\n",
        "scaler = StandardScaler()\r\n",
        "scaled_data = scaler.fit_transform(df_shopping[['Age', 'Annual Income', 'Spending Score (1-100)']])"
      ],
      "outputs": [],
      "metadata": {}
    },
    {
      "cell_type": "code",
      "execution_count": null,
      "source": [
        "# A list of the columns from the original DataFrame\r\n",
        "df_shopping.columns"
      ],
      "outputs": [],
      "metadata": {}
    },
    {
      "cell_type": "code",
      "execution_count": null,
      "source": [
        "# Create a DataFrame with the transformed data\r\n",
        "new_df_shopping = pd.DataFrame(scaled_data, columns=df_shopping.columns[1:])\r\n",
        "new_df_shopping['Previous Shopper'] = df_shopping['Previous Shopper']\r\n",
        "new_df_shopping.head()"
      ],
      "outputs": [],
      "metadata": {}
    },
    {
      "cell_type": "code",
      "execution_count": null,
      "source": [
        "# Rename the spending score column\r\n",
        "new_df_shopping = new_df_shopping.rename(columns={'Spending Score (1-100)': 'Spending Score'})\r\n",
        "new_df_shopping.head()"
      ],
      "outputs": [],
      "metadata": {}
    },
    {
      "cell_type": "markdown",
      "source": [
        "Save the cleaned DataFrame as a `CSV` file, name it as `shopping_data_cleaned.csv`."
      ],
      "metadata": {}
    },
    {
      "cell_type": "code",
      "execution_count": null,
      "source": [
        "# Saving cleaned data\n",
        "file_path = Path(\"../Resources/shopping_data_cleaned.csv\")\n",
        "new_df_shopping.to_csv(file_path, index=False)\n"
      ],
      "outputs": [],
      "metadata": {}
    },
    {
      "cell_type": "code",
      "execution_count": null,
      "source": [],
      "outputs": [],
      "metadata": {}
    }
  ],
  "metadata": {
    "pygments_lexer": "ipython3",
    "name": "python",
    "mimetype": "text/x-python",
    "npconvert_exporter": "python",
    "language_info": {
      "codemirror_mode": {
        "name": "ipython",
        "version": 3
      },
      "file_extension": ".py",
      "mimetype": "text/x-python",
      "name": "python",
      "nbconvert_exporter": "python",
      "pygments_lexer": "ipython3",
      "version": "3.6.10"
    },
    "version": 3,
    "kernelspec": {
      "name": "python3",
      "display_name": "Python 3.6.10 64-bit ('PythonData': conda)"
    },
    "file_extension": ".py",
    "nteract": {
      "version": "0.28.0"
    },
    "interpreter": {
      "hash": "b1b7b1aafd712f0c3c9d5ed14206ddd16150250cb00da6bfa1c7df749c3f57eb"
    }
  },
  "nbformat": 4,
  "nbformat_minor": 4
}